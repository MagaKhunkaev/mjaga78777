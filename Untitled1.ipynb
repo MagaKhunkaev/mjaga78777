{
 "cells": [
  {
   "cell_type": "code",
   "execution_count": 3,
   "id": "5b36461a",
   "metadata": {},
   "outputs": [],
   "source": [
    "import pandas as pd\n",
    "import numpy as np\n",
    "import statsmodels.api as sm\n",
    "import statsmodels.formula.api as smf\n",
    "from matplotlib import pyplot as plt\n",
    "from statsmodels.iolib.summary2 import summary_params, summary_col\n",
    "import seaborn as sns"
   ]
  },
  {
   "cell_type": "markdown",
   "id": "fb7ca092",
   "metadata": {},
   "source": [
    "# Задание 1"
   ]
  },
  {
   "cell_type": "code",
   "execution_count": 11,
   "id": "b1baa3da",
   "metadata": {},
   "outputs": [
    {
     "data": {
      "text/html": [
       "<div>\n",
       "<style scoped>\n",
       "    .dataframe tbody tr th:only-of-type {\n",
       "        vertical-align: middle;\n",
       "    }\n",
       "\n",
       "    .dataframe tbody tr th {\n",
       "        vertical-align: top;\n",
       "    }\n",
       "\n",
       "    .dataframe thead th {\n",
       "        text-align: right;\n",
       "    }\n",
       "</style>\n",
       "<table border=\"1\" class=\"dataframe\">\n",
       "  <thead>\n",
       "    <tr style=\"text-align: right;\">\n",
       "      <th></th>\n",
       "      <th>cost</th>\n",
       "      <th>q</th>\n",
       "      <th>pl</th>\n",
       "      <th>sl</th>\n",
       "      <th>pk</th>\n",
       "      <th>sk</th>\n",
       "      <th>pf</th>\n",
       "      <th>sf</th>\n",
       "    </tr>\n",
       "  </thead>\n",
       "  <tbody>\n",
       "    <tr>\n",
       "      <th>0</th>\n",
       "      <td>0.2130</td>\n",
       "      <td>8.0</td>\n",
       "      <td>6869.47</td>\n",
       "      <td>0.3291</td>\n",
       "      <td>64.945</td>\n",
       "      <td>0.4197</td>\n",
       "      <td>18.000</td>\n",
       "      <td>0.2512</td>\n",
       "    </tr>\n",
       "    <tr>\n",
       "      <th>1</th>\n",
       "      <td>3.0427</td>\n",
       "      <td>869.0</td>\n",
       "      <td>8372.96</td>\n",
       "      <td>0.1030</td>\n",
       "      <td>68.227</td>\n",
       "      <td>0.2913</td>\n",
       "      <td>21.067</td>\n",
       "      <td>0.6057</td>\n",
       "    </tr>\n",
       "    <tr>\n",
       "      <th>2</th>\n",
       "      <td>9.4059</td>\n",
       "      <td>1412.0</td>\n",
       "      <td>7960.90</td>\n",
       "      <td>0.0891</td>\n",
       "      <td>40.692</td>\n",
       "      <td>0.1567</td>\n",
       "      <td>41.530</td>\n",
       "      <td>0.7542</td>\n",
       "    </tr>\n",
       "    <tr>\n",
       "      <th>3</th>\n",
       "      <td>0.7606</td>\n",
       "      <td>65.0</td>\n",
       "      <td>8971.89</td>\n",
       "      <td>0.2802</td>\n",
       "      <td>41.243</td>\n",
       "      <td>0.1282</td>\n",
       "      <td>28.539</td>\n",
       "      <td>0.5916</td>\n",
       "    </tr>\n",
       "    <tr>\n",
       "      <th>4</th>\n",
       "      <td>2.2587</td>\n",
       "      <td>295.0</td>\n",
       "      <td>8218.40</td>\n",
       "      <td>0.1772</td>\n",
       "      <td>71.940</td>\n",
       "      <td>0.1623</td>\n",
       "      <td>39.200</td>\n",
       "      <td>0.6606</td>\n",
       "    </tr>\n",
       "  </tbody>\n",
       "</table>\n",
       "</div>"
      ],
      "text/plain": [
       "     cost       q       pl      sl      pk      sk      pf      sf\n",
       "0  0.2130     8.0  6869.47  0.3291  64.945  0.4197  18.000  0.2512\n",
       "1  3.0427   869.0  8372.96  0.1030  68.227  0.2913  21.067  0.6057\n",
       "2  9.4059  1412.0  7960.90  0.0891  40.692  0.1567  41.530  0.7542\n",
       "3  0.7606    65.0  8971.89  0.2802  41.243  0.1282  28.539  0.5916\n",
       "4  2.2587   295.0  8218.40  0.1772  71.940  0.1623  39.200  0.6606"
      ]
     },
     "execution_count": 11,
     "metadata": {},
     "output_type": "execute_result"
    }
   ],
   "source": [
    "data =pd.read_csv(\"https://raw.githubusercontent.com/artamonoff/Econometrica/master/python-notebooks/data-csv/Electricity.csv\")\n",
    "data.head()"
   ]
  },
  {
   "cell_type": "markdown",
   "id": "aeabeced",
   "metadata": {},
   "source": [
    "# Задание 2"
   ]
  },
  {
   "cell_type": "markdown",
   "id": "439c1f99",
   "metadata": {},
   "source": [
    "Спецификация\n",
    "$$\n",
    "cost = \\beta_0+\\beta_1q+\\beta_2pl+\\beta_3pk+\\beta_4pf+u\n",
    "$$"
   ]
  },
  {
   "cell_type": "code",
   "execution_count": 21,
   "id": "877fe3a8",
   "metadata": {},
   "outputs": [
    {
     "data": {
      "text/html": [
       "<table class=\"simpletable\">\n",
       "<caption>OLS Regression Results</caption>\n",
       "<tr>\n",
       "  <th>Dep. Variable:</th>          <td>cost</td>       <th>  R-squared:         </th> <td>   0.951</td>\n",
       "</tr>\n",
       "<tr>\n",
       "  <th>Model:</th>                   <td>OLS</td>       <th>  Adj. R-squared:    </th> <td>   0.949</td>\n",
       "</tr>\n",
       "<tr>\n",
       "  <th>Method:</th>             <td>Least Squares</td>  <th>  F-statistic:       </th> <td>   737.3</td>\n",
       "</tr>\n",
       "<tr>\n",
       "  <th>Date:</th>             <td>Wed, 24 May 2023</td> <th>  Prob (F-statistic):</th> <td>7.68e-99</td>\n",
       "</tr>\n",
       "<tr>\n",
       "  <th>Time:</th>                 <td>11:32:22</td>     <th>  Log-Likelihood:    </th> <td> -691.67</td>\n",
       "</tr>\n",
       "<tr>\n",
       "  <th>No. Observations:</th>      <td>   158</td>      <th>  AIC:               </th> <td>   1393.</td>\n",
       "</tr>\n",
       "<tr>\n",
       "  <th>Df Residuals:</th>          <td>   153</td>      <th>  BIC:               </th> <td>   1409.</td>\n",
       "</tr>\n",
       "<tr>\n",
       "  <th>Df Model:</th>              <td>     4</td>      <th>                     </th>     <td> </td>   \n",
       "</tr>\n",
       "<tr>\n",
       "  <th>Covariance Type:</th>      <td>nonrobust</td>    <th>                     </th>     <td> </td>   \n",
       "</tr>\n",
       "</table>\n",
       "<table class=\"simpletable\">\n",
       "<tr>\n",
       "      <td></td>         <th>coef</th>     <th>std err</th>      <th>t</th>      <th>P>|t|</th>  <th>[0.025</th>    <th>0.975]</th>  \n",
       "</tr>\n",
       "<tr>\n",
       "  <th>Intercept</th> <td>  -84.5557</td> <td>   15.112</td> <td>   -5.595</td> <td> 0.000</td> <td> -114.410</td> <td>  -54.701</td>\n",
       "</tr>\n",
       "<tr>\n",
       "  <th>q</th>         <td>    0.0055</td> <td>    0.000</td> <td>   52.823</td> <td> 0.000</td> <td>    0.005</td> <td>    0.006</td>\n",
       "</tr>\n",
       "<tr>\n",
       "  <th>pl</th>        <td>    0.0032</td> <td>    0.001</td> <td>    2.684</td> <td> 0.008</td> <td>    0.001</td> <td>    0.006</td>\n",
       "</tr>\n",
       "<tr>\n",
       "  <th>pk</th>        <td>    0.3035</td> <td>    0.137</td> <td>    2.215</td> <td> 0.028</td> <td>    0.033</td> <td>    0.574</td>\n",
       "</tr>\n",
       "<tr>\n",
       "  <th>pf</th>        <td>    1.0719</td> <td>    0.206</td> <td>    5.194</td> <td> 0.000</td> <td>    0.664</td> <td>    1.480</td>\n",
       "</tr>\n",
       "</table>\n",
       "<table class=\"simpletable\">\n",
       "<tr>\n",
       "  <th>Omnibus:</th>       <td>46.263</td> <th>  Durbin-Watson:     </th> <td>   1.362</td> \n",
       "</tr>\n",
       "<tr>\n",
       "  <th>Prob(Omnibus):</th> <td> 0.000</td> <th>  Jarque-Bera (JB):  </th> <td> 867.108</td> \n",
       "</tr>\n",
       "<tr>\n",
       "  <th>Skew:</th>          <td> 0.331</td> <th>  Prob(JB):          </th> <td>5.13e-189</td>\n",
       "</tr>\n",
       "<tr>\n",
       "  <th>Kurtosis:</th>      <td>14.458</td> <th>  Cond. No.          </th> <td>1.85e+05</td> \n",
       "</tr>\n",
       "</table><br/><br/>Notes:<br/>[1] Standard Errors assume that the covariance matrix of the errors is correctly specified.<br/>[2] The condition number is large, 1.85e+05. This might indicate that there are<br/>strong multicollinearity or other numerical problems."
      ],
      "text/plain": [
       "<class 'statsmodels.iolib.summary.Summary'>\n",
       "\"\"\"\n",
       "                            OLS Regression Results                            \n",
       "==============================================================================\n",
       "Dep. Variable:                   cost   R-squared:                       0.951\n",
       "Model:                            OLS   Adj. R-squared:                  0.949\n",
       "Method:                 Least Squares   F-statistic:                     737.3\n",
       "Date:                Wed, 24 May 2023   Prob (F-statistic):           7.68e-99\n",
       "Time:                        11:32:22   Log-Likelihood:                -691.67\n",
       "No. Observations:                 158   AIC:                             1393.\n",
       "Df Residuals:                     153   BIC:                             1409.\n",
       "Df Model:                           4                                         \n",
       "Covariance Type:            nonrobust                                         \n",
       "==============================================================================\n",
       "                 coef    std err          t      P>|t|      [0.025      0.975]\n",
       "------------------------------------------------------------------------------\n",
       "Intercept    -84.5557     15.112     -5.595      0.000    -114.410     -54.701\n",
       "q              0.0055      0.000     52.823      0.000       0.005       0.006\n",
       "pl             0.0032      0.001      2.684      0.008       0.001       0.006\n",
       "pk             0.3035      0.137      2.215      0.028       0.033       0.574\n",
       "pf             1.0719      0.206      5.194      0.000       0.664       1.480\n",
       "==============================================================================\n",
       "Omnibus:                       46.263   Durbin-Watson:                   1.362\n",
       "Prob(Omnibus):                  0.000   Jarque-Bera (JB):              867.108\n",
       "Skew:                           0.331   Prob(JB):                    5.13e-189\n",
       "Kurtosis:                      14.458   Cond. No.                     1.85e+05\n",
       "==============================================================================\n",
       "\n",
       "Notes:\n",
       "[1] Standard Errors assume that the covariance matrix of the errors is correctly specified.\n",
       "[2] The condition number is large, 1.85e+05. This might indicate that there are\n",
       "strong multicollinearity or other numerical problems.\n",
       "\"\"\""
      ]
     },
     "execution_count": 21,
     "metadata": {},
     "output_type": "execute_result"
    }
   ],
   "source": [
    "mod2_1 = smf.ols(\"cost ~ q+pl+pk+pf\", data=data).fit()\n",
    "mod2_1.summary()\n"
   ]
  },
  {
   "cell_type": "markdown",
   "id": "719da834",
   "metadata": {},
   "source": [
    "# Задание 4"
   ]
  },
  {
   "cell_type": "markdown",
   "id": "95caa8d1",
   "metadata": {},
   "source": [
    "Вместо всех переменных будем использовать их логарифмы"
   ]
  },
  {
   "cell_type": "code",
   "execution_count": 27,
   "id": "39b1c521",
   "metadata": {},
   "outputs": [],
   "source": [
    "mod4_1 = smf.ols(\"np.log(cost) ~np.log(q)+np.log(pl)+np.log(pk)+np.log(pf)\", data=data).fit()"
   ]
  },
  {
   "cell_type": "code",
   "execution_count": 29,
   "id": "ff2b5795",
   "metadata": {},
   "outputs": [
    {
     "data": {
      "text/html": [
       "<table class=\"simpletable\">\n",
       "<caption>OLS Regression Results</caption>\n",
       "<tr>\n",
       "  <th>Dep. Variable:</th>      <td>np.log(cost)</td>   <th>  R-squared:         </th> <td>   0.982</td> \n",
       "</tr>\n",
       "<tr>\n",
       "  <th>Model:</th>                   <td>OLS</td>       <th>  Adj. R-squared:    </th> <td>   0.982</td> \n",
       "</tr>\n",
       "<tr>\n",
       "  <th>Method:</th>             <td>Least Squares</td>  <th>  F-statistic:       </th> <td>   2107.</td> \n",
       "</tr>\n",
       "<tr>\n",
       "  <th>Date:</th>             <td>Wed, 24 May 2023</td> <th>  Prob (F-statistic):</th> <td>1.25e-132</td>\n",
       "</tr>\n",
       "<tr>\n",
       "  <th>Time:</th>                 <td>11:34:43</td>     <th>  Log-Likelihood:    </th> <td>  25.928</td> \n",
       "</tr>\n",
       "<tr>\n",
       "  <th>No. Observations:</th>      <td>   158</td>      <th>  AIC:               </th> <td>  -41.86</td> \n",
       "</tr>\n",
       "<tr>\n",
       "  <th>Df Residuals:</th>          <td>   153</td>      <th>  BIC:               </th> <td>  -26.54</td> \n",
       "</tr>\n",
       "<tr>\n",
       "  <th>Df Model:</th>              <td>     4</td>      <th>                     </th>     <td> </td>    \n",
       "</tr>\n",
       "<tr>\n",
       "  <th>Covariance Type:</th>      <td>nonrobust</td>    <th>                     </th>     <td> </td>    \n",
       "</tr>\n",
       "</table>\n",
       "<table class=\"simpletable\">\n",
       "<tr>\n",
       "       <td></td>         <th>coef</th>     <th>std err</th>      <th>t</th>      <th>P>|t|</th>  <th>[0.025</th>    <th>0.975]</th>  \n",
       "</tr>\n",
       "<tr>\n",
       "  <th>Intercept</th>  <td>   -7.4722</td> <td>    1.063</td> <td>   -7.028</td> <td> 0.000</td> <td>   -9.573</td> <td>   -5.372</td>\n",
       "</tr>\n",
       "<tr>\n",
       "  <th>np.log(q)</th>  <td>    0.8381</td> <td>    0.009</td> <td>   89.284</td> <td> 0.000</td> <td>    0.820</td> <td>    0.857</td>\n",
       "</tr>\n",
       "<tr>\n",
       "  <th>np.log(pl)</th> <td>    0.0443</td> <td>    0.106</td> <td>    0.418</td> <td> 0.676</td> <td>   -0.165</td> <td>    0.253</td>\n",
       "</tr>\n",
       "<tr>\n",
       "  <th>np.log(pk)</th> <td>    0.1884</td> <td>    0.087</td> <td>    2.164</td> <td> 0.032</td> <td>    0.016</td> <td>    0.360</td>\n",
       "</tr>\n",
       "<tr>\n",
       "  <th>np.log(pf)</th> <td>    0.7131</td> <td>    0.064</td> <td>   11.081</td> <td> 0.000</td> <td>    0.586</td> <td>    0.840</td>\n",
       "</tr>\n",
       "</table>\n",
       "<table class=\"simpletable\">\n",
       "<tr>\n",
       "  <th>Omnibus:</th>       <td>43.278</td> <th>  Durbin-Watson:     </th> <td>   1.458</td>\n",
       "</tr>\n",
       "<tr>\n",
       "  <th>Prob(Omnibus):</th> <td> 0.000</td> <th>  Jarque-Bera (JB):  </th> <td> 109.870</td>\n",
       "</tr>\n",
       "<tr>\n",
       "  <th>Skew:</th>          <td> 1.123</td> <th>  Prob(JB):          </th> <td>1.39e-24</td>\n",
       "</tr>\n",
       "<tr>\n",
       "  <th>Kurtosis:</th>      <td> 6.413</td> <th>  Cond. No.          </th> <td>    866.</td>\n",
       "</tr>\n",
       "</table><br/><br/>Notes:<br/>[1] Standard Errors assume that the covariance matrix of the errors is correctly specified."
      ],
      "text/plain": [
       "<class 'statsmodels.iolib.summary.Summary'>\n",
       "\"\"\"\n",
       "                            OLS Regression Results                            \n",
       "==============================================================================\n",
       "Dep. Variable:           np.log(cost)   R-squared:                       0.982\n",
       "Model:                            OLS   Adj. R-squared:                  0.982\n",
       "Method:                 Least Squares   F-statistic:                     2107.\n",
       "Date:                Wed, 24 May 2023   Prob (F-statistic):          1.25e-132\n",
       "Time:                        11:34:43   Log-Likelihood:                 25.928\n",
       "No. Observations:                 158   AIC:                            -41.86\n",
       "Df Residuals:                     153   BIC:                            -26.54\n",
       "Df Model:                           4                                         \n",
       "Covariance Type:            nonrobust                                         \n",
       "==============================================================================\n",
       "                 coef    std err          t      P>|t|      [0.025      0.975]\n",
       "------------------------------------------------------------------------------\n",
       "Intercept     -7.4722      1.063     -7.028      0.000      -9.573      -5.372\n",
       "np.log(q)      0.8381      0.009     89.284      0.000       0.820       0.857\n",
       "np.log(pl)     0.0443      0.106      0.418      0.676      -0.165       0.253\n",
       "np.log(pk)     0.1884      0.087      2.164      0.032       0.016       0.360\n",
       "np.log(pf)     0.7131      0.064     11.081      0.000       0.586       0.840\n",
       "==============================================================================\n",
       "Omnibus:                       43.278   Durbin-Watson:                   1.458\n",
       "Prob(Omnibus):                  0.000   Jarque-Bera (JB):              109.870\n",
       "Skew:                           1.123   Prob(JB):                     1.39e-24\n",
       "Kurtosis:                       6.413   Cond. No.                         866.\n",
       "==============================================================================\n",
       "\n",
       "Notes:\n",
       "[1] Standard Errors assume that the covariance matrix of the errors is correctly specified.\n",
       "\"\"\""
      ]
     },
     "execution_count": 29,
     "metadata": {},
     "output_type": "execute_result"
    }
   ],
   "source": [
    "mod4_1.summary()"
   ]
  },
  {
   "cell_type": "markdown",
   "id": "eeb63e70",
   "metadata": {},
   "source": [
    "Скорректированный R квадрат увеличился, что может говорить об улучшении\n",
    "качества модели. AIC и BIC также уменьшились, что может говорить об\n",
    "улучшении. Делаем вывод, что новая модель лучше.\n"
   ]
  },
  {
   "cell_type": "markdown",
   "id": "a7c48411",
   "metadata": {},
   "source": [
    "# Задание 5"
   ]
  },
  {
   "cell_type": "code",
   "execution_count": 31,
   "id": "b1f305d9",
   "metadata": {},
   "outputs": [
    {
     "data": {
      "text/html": [
       "<table class=\"simpletable\">\n",
       "<caption>OLS Regression Results</caption>\n",
       "<tr>\n",
       "  <th>Dep. Variable:</th>      <td>np.log(cost)</td>   <th>  R-squared:         </th> <td>   0.982</td> \n",
       "</tr>\n",
       "<tr>\n",
       "  <th>Model:</th>                   <td>OLS</td>       <th>  Adj. R-squared:    </th> <td>   0.982</td> \n",
       "</tr>\n",
       "<tr>\n",
       "  <th>Method:</th>             <td>Least Squares</td>  <th>  F-statistic:       </th> <td>   2107.</td> \n",
       "</tr>\n",
       "<tr>\n",
       "  <th>Date:</th>             <td>Wed, 24 May 2023</td> <th>  Prob (F-statistic):</th> <td>1.25e-132</td>\n",
       "</tr>\n",
       "<tr>\n",
       "  <th>Time:</th>                 <td>11:35:09</td>     <th>  Log-Likelihood:    </th> <td>  25.928</td> \n",
       "</tr>\n",
       "<tr>\n",
       "  <th>No. Observations:</th>      <td>   158</td>      <th>  AIC:               </th> <td>  -41.86</td> \n",
       "</tr>\n",
       "<tr>\n",
       "  <th>Df Residuals:</th>          <td>   153</td>      <th>  BIC:               </th> <td>  -26.54</td> \n",
       "</tr>\n",
       "<tr>\n",
       "  <th>Df Model:</th>              <td>     4</td>      <th>                     </th>     <td> </td>    \n",
       "</tr>\n",
       "<tr>\n",
       "  <th>Covariance Type:</th>      <td>nonrobust</td>    <th>                     </th>     <td> </td>    \n",
       "</tr>\n",
       "</table>\n",
       "<table class=\"simpletable\">\n",
       "<tr>\n",
       "       <td></td>         <th>coef</th>     <th>std err</th>      <th>t</th>      <th>P>|t|</th>  <th>[0.025</th>    <th>0.975]</th>  \n",
       "</tr>\n",
       "<tr>\n",
       "  <th>Intercept</th>  <td>   -7.4722</td> <td>    1.063</td> <td>   -7.028</td> <td> 0.000</td> <td>   -9.573</td> <td>   -5.372</td>\n",
       "</tr>\n",
       "<tr>\n",
       "  <th>np.log(q)</th>  <td>    0.8381</td> <td>    0.009</td> <td>   89.284</td> <td> 0.000</td> <td>    0.820</td> <td>    0.857</td>\n",
       "</tr>\n",
       "<tr>\n",
       "  <th>np.log(pl)</th> <td>    0.0443</td> <td>    0.106</td> <td>    0.418</td> <td> 0.676</td> <td>   -0.165</td> <td>    0.253</td>\n",
       "</tr>\n",
       "<tr>\n",
       "  <th>np.log(pk)</th> <td>    0.1884</td> <td>    0.087</td> <td>    2.164</td> <td> 0.032</td> <td>    0.016</td> <td>    0.360</td>\n",
       "</tr>\n",
       "<tr>\n",
       "  <th>np.log(pf)</th> <td>    0.7131</td> <td>    0.064</td> <td>   11.081</td> <td> 0.000</td> <td>    0.586</td> <td>    0.840</td>\n",
       "</tr>\n",
       "</table>\n",
       "<table class=\"simpletable\">\n",
       "<tr>\n",
       "  <th>Omnibus:</th>       <td>43.278</td> <th>  Durbin-Watson:     </th> <td>   1.458</td>\n",
       "</tr>\n",
       "<tr>\n",
       "  <th>Prob(Omnibus):</th> <td> 0.000</td> <th>  Jarque-Bera (JB):  </th> <td> 109.870</td>\n",
       "</tr>\n",
       "<tr>\n",
       "  <th>Skew:</th>          <td> 1.123</td> <th>  Prob(JB):          </th> <td>1.39e-24</td>\n",
       "</tr>\n",
       "<tr>\n",
       "  <th>Kurtosis:</th>      <td> 6.413</td> <th>  Cond. No.          </th> <td>    866.</td>\n",
       "</tr>\n",
       "</table><br/><br/>Notes:<br/>[1] Standard Errors assume that the covariance matrix of the errors is correctly specified."
      ],
      "text/plain": [
       "<class 'statsmodels.iolib.summary.Summary'>\n",
       "\"\"\"\n",
       "                            OLS Regression Results                            \n",
       "==============================================================================\n",
       "Dep. Variable:           np.log(cost)   R-squared:                       0.982\n",
       "Model:                            OLS   Adj. R-squared:                  0.982\n",
       "Method:                 Least Squares   F-statistic:                     2107.\n",
       "Date:                Wed, 24 May 2023   Prob (F-statistic):          1.25e-132\n",
       "Time:                        11:35:09   Log-Likelihood:                 25.928\n",
       "No. Observations:                 158   AIC:                            -41.86\n",
       "Df Residuals:                     153   BIC:                            -26.54\n",
       "Df Model:                           4                                         \n",
       "Covariance Type:            nonrobust                                         \n",
       "==============================================================================\n",
       "                 coef    std err          t      P>|t|      [0.025      0.975]\n",
       "------------------------------------------------------------------------------\n",
       "Intercept     -7.4722      1.063     -7.028      0.000      -9.573      -5.372\n",
       "np.log(q)      0.8381      0.009     89.284      0.000       0.820       0.857\n",
       "np.log(pl)     0.0443      0.106      0.418      0.676      -0.165       0.253\n",
       "np.log(pk)     0.1884      0.087      2.164      0.032       0.016       0.360\n",
       "np.log(pf)     0.7131      0.064     11.081      0.000       0.586       0.840\n",
       "==============================================================================\n",
       "Omnibus:                       43.278   Durbin-Watson:                   1.458\n",
       "Prob(Omnibus):                  0.000   Jarque-Bera (JB):              109.870\n",
       "Skew:                           1.123   Prob(JB):                     1.39e-24\n",
       "Kurtosis:                       6.413   Cond. No.                         866.\n",
       "==============================================================================\n",
       "\n",
       "Notes:\n",
       "[1] Standard Errors assume that the covariance matrix of the errors is correctly specified.\n",
       "\"\"\""
      ]
     },
     "execution_count": 31,
     "metadata": {},
     "output_type": "execute_result"
    }
   ],
   "source": [
    "mod5_1 = smf.ols(\"np.log(cost) ~np.log(q)+np.log(pl)+np.log(pk)+np.log(pf)\", data=data).fit()\n",
    "mod5_1.summary()"
   ]
  },
  {
   "cell_type": "markdown",
   "id": "d5a522e5",
   "metadata": {},
   "source": [
    "На уровне значимости в 1%, значимы константа, коэффициент при log(q) и\n",
    "log(pf). Не значимы коэффициенты при log(pl) и log(pk).\n"
   ]
  },
  {
   "cell_type": "markdown",
   "id": "e6249de9",
   "metadata": {},
   "source": [
    "# Задание 6"
   ]
  },
  {
   "cell_type": "markdown",
   "id": "a4a30348",
   "metadata": {},
   "source": [
    "Константа не интерпретируется. Интерпретация коэффициента при log(q)\n",
    "следующая: при прочих равных, в среднем, увеличение общего выпуска\n",
    "электроэнергии на 1% связано с увеличением затрат на 0.8381%.\n",
    "Интерпретация коэффициента при log(pf) следующая: при прочих равных, в\n",
    "среднем, увеличение цены топлива на 1% связано с увеличением затрат на\n",
    "0.7131%."
   ]
  },
  {
   "cell_type": "markdown",
   "id": "cd151312",
   "metadata": {},
   "source": [
    "# Задание 7"
   ]
  },
  {
   "cell_type": "markdown",
   "id": "4c51a1a2",
   "metadata": {},
   "source": [
    "Спрогнозируем значения для последних трёх наблюдений"
   ]
  },
  {
   "cell_type": "code",
   "execution_count": 34,
   "id": "7b79fd2f",
   "metadata": {},
   "outputs": [
    {
     "data": {
      "text/plain": [
       "155     4.239006\n",
       "156    36.857099\n",
       "157    61.314543\n",
       "dtype: float64"
      ]
     },
     "execution_count": 34,
     "metadata": {},
     "output_type": "execute_result"
    }
   ],
   "source": [
    "mod7_1 = smf.ols(\"np.log(cost) ~np.log(q)+np.log(pl)+np.log(pk)+np.log(pf)\", data=data).fit()\n",
    "np.exp(mod7_1.predict(data.iloc[-3:]))\n"
   ]
  },
  {
   "cell_type": "markdown",
   "id": "a0e34a79",
   "metadata": {},
   "source": [
    "Истинные значения равны"
   ]
  },
  {
   "cell_type": "code",
   "execution_count": 35,
   "id": "beb4ee9d",
   "metadata": {},
   "outputs": [
    {
     "data": {
      "text/plain": [
       "155     3.9822\n",
       "156    30.1880\n",
       "157    67.8562\n",
       "Name: cost, dtype: float64"
      ]
     },
     "execution_count": 35,
     "metadata": {},
     "output_type": "execute_result"
    }
   ],
   "source": [
    "data.iloc[-3:]['cost']"
   ]
  },
  {
   "cell_type": "markdown",
   "id": "9b2a87f0",
   "metadata": {},
   "source": [
    "#Задание 8"
   ]
  },
  {
   "cell_type": "markdown",
   "id": "29e6967c",
   "metadata": {},
   "source": [
    "Вычислим RSS и TSS"
   ]
  },
  {
   "cell_type": "code",
   "execution_count": 37,
   "id": "f9f79131",
   "metadata": {},
   "outputs": [],
   "source": [
    "\n",
    "mod8_1 = smf.ols(\"np.log(cost) ~np.log(q)+np.log(pl)+np.log(pk)+np.log(pf)\", data=data).fit()\n",
    "RSS = sum(mod8_1.resid**2)\n",
    "TSS = sum((data.cost-np.mean(data.cost))**2)\n"
   ]
  },
  {
   "cell_type": "markdown",
   "id": "d598a59d",
   "metadata": {},
   "source": [
    "Следовательно R^2 равен"
   ]
  },
  {
   "cell_type": "code",
   "execution_count": 38,
   "id": "a10b6110",
   "metadata": {},
   "outputs": [
    {
     "data": {
      "text/plain": [
       "0.9999944008946456"
      ]
     },
     "execution_count": 38,
     "metadata": {},
     "output_type": "execute_result"
    }
   ],
   "source": [
    "R2 = (TSS-RSS)/TSS\n",
    "R2"
   ]
  },
  {
   "cell_type": "markdown",
   "id": "e4044733",
   "metadata": {},
   "source": [
    "И стандартная ошибка регресии равна"
   ]
  },
  {
   "cell_type": "code",
   "execution_count": 39,
   "id": "64a9100c",
   "metadata": {},
   "outputs": [
    {
     "data": {
      "text/plain": [
       "0.20535056449479677"
      ]
     },
     "execution_count": 39,
     "metadata": {},
     "output_type": "execute_result"
    }
   ],
   "source": [
    "from math import sqrt\n",
    "ser = sqrt(RSS/(len(data.index-4-1)))\n",
    "ser"
   ]
  },
  {
   "cell_type": "markdown",
   "id": "579e3183",
   "metadata": {},
   "source": [
    "#Задание 9"
   ]
  },
  {
   "cell_type": "markdown",
   "id": "26025537",
   "metadata": {},
   "source": [
    "Исправленный коэффицент R^2"
   ]
  },
  {
   "cell_type": "code",
   "execution_count": 41,
   "id": "745ae3ad",
   "metadata": {},
   "outputs": [
    {
     "data": {
      "text/plain": [
       "0.9999942545128063"
      ]
     },
     "execution_count": 41,
     "metadata": {},
     "output_type": "execute_result"
    }
   ],
   "source": [
    "n = len(data.index)\n",
    "k = 4\n",
    "R2adj = 1- (1-R2)*(n-1)/(n-k-1)\n",
    "R2adj"
   ]
  },
  {
   "cell_type": "code",
   "execution_count": null,
   "id": "5c7702b4",
   "metadata": {},
   "outputs": [],
   "source": []
  }
 ],
 "metadata": {
  "kernelspec": {
   "display_name": "Python 3 (ipykernel)",
   "language": "python",
   "name": "python3"
  },
  "language_info": {
   "codemirror_mode": {
    "name": "ipython",
    "version": 3
   },
   "file_extension": ".py",
   "mimetype": "text/x-python",
   "name": "python",
   "nbconvert_exporter": "python",
   "pygments_lexer": "ipython3",
   "version": "3.9.16"
  }
 },
 "nbformat": 4,
 "nbformat_minor": 5
}
