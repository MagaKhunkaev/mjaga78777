{
 "cells": [
  {
   "cell_type": "code",
   "execution_count": 1,
   "id": "76c4318f",
   "metadata": {},
   "outputs": [],
   "source": [
    "import numpy as np\n",
    "import re"
   ]
  },
  {
   "cell_type": "code",
   "execution_count": 2,
   "id": "f2f3f09c",
   "metadata": {},
   "outputs": [],
   "source": [
    "date ='''totwrk                       -0.169***         \n",
    "                              (0.018)          \n",
    "                                               \n",
    "age                           2.689*           \n",
    "                              (1.469)          \n",
    "                                               \n",
    "south                        101.568**         \n",
    "                             (41.837)          \n",
    "                                               \n",
    "male                         87.669**          \n",
    "                             (35.104)          \n",
    "                                               \n",
    "smsa                         -54.748*          \n",
    "                             (33.123)          \n",
    "                                               \n",
    "yngkid                        -13.962          \n",
    "                             (50.341)          \n",
    "                                               \n",
    "marr                          31.211           \n",
    "                             (42.233)          \n",
    "                                               \n",
    "Constant                    3450.913***        \n",
    "                             (80.726)'''"
   ]
  },
  {
   "cell_type": "code",
   "execution_count": 3,
   "id": "9dceae86",
   "metadata": {},
   "outputs": [
    {
     "data": {
      "text/plain": [
       "['-0.169',\n",
       " '0.018',\n",
       " '2.689',\n",
       " '1.469',\n",
       " '101.568',\n",
       " '41.837',\n",
       " '87.669',\n",
       " '35.104',\n",
       " '-54.748',\n",
       " '33.123',\n",
       " '-13.962',\n",
       " '50.341',\n",
       " '31.211',\n",
       " '42.233',\n",
       " '3450.913',\n",
       " '80.726']"
      ]
     },
     "execution_count": 3,
     "metadata": {},
     "output_type": "execute_result"
    }
   ],
   "source": [
    "date_lst = re.findall(r'([-+]?\\d+.\\d+)',date)\n",
    "date_lst"
   ]
  },
  {
   "cell_type": "code",
   "execution_count": 4,
   "id": "10ac06f5",
   "metadata": {},
   "outputs": [
    {
     "data": {
      "text/plain": [
       "array([['-0.169', '0.018'],\n",
       "       ['2.689', '1.469'],\n",
       "       ['101.568', '41.837'],\n",
       "       ['87.669', '35.104'],\n",
       "       ['-54.748', '33.123'],\n",
       "       ['-13.962', '50.341'],\n",
       "       ['31.211', '42.233'],\n",
       "       ['3450.913', '80.726']], dtype='<U8')"
      ]
     },
     "execution_count": 4,
     "metadata": {},
     "output_type": "execute_result"
    }
   ],
   "source": [
    "beta = np.reshape(date_lst, (8,2))\n",
    "beta"
   ]
  },
  {
   "cell_type": "code",
   "execution_count": 5,
   "id": "0671737a",
   "metadata": {},
   "outputs": [
    {
     "data": {
      "text/plain": [
       "array(['-0.169', '2.689', '101.568', '87.669', '-54.748', '-13.962',\n",
       "       '31.211', '3450.913'], dtype='<U8')"
      ]
     },
     "execution_count": 5,
     "metadata": {},
     "output_type": "execute_result"
    }
   ],
   "source": [
    "beta[:,0]"
   ]
  },
  {
   "cell_type": "code",
   "execution_count": 6,
   "id": "791d0afb",
   "metadata": {},
   "outputs": [
    {
     "data": {
      "text/plain": [
       "array([-1.690000e-01,  2.689000e+00,  1.015680e+02,  8.766900e+01,\n",
       "       -5.474800e+01, -1.396200e+01,  3.121100e+01,  3.450913e+03])"
      ]
     },
     "execution_count": 6,
     "metadata": {},
     "output_type": "execute_result"
    }
   ],
   "source": [
    "beta = beta[:,0].astype(float)\n",
    "beta"
   ]
  },
  {
   "cell_type": "code",
   "execution_count": 17,
   "id": "9aa8dcdb",
   "metadata": {},
   "outputs": [],
   "source": [
    "empiric=''' totwrk age south male smsa yngkid marr\n",
    "----------------------------------------\n",
    "1  2150  37    0    1    1     0     1  \n",
    "2  1950  28    1    1    0     1     0  \n",
    "3  2240  26    0    0    1     0     0  '''\n",
    "X = re.findall(r'([-+]?\\d+)',empiric)\n",
    "X = np.reshape(X, (3,8))\n"
   ]
  },
  {
   "cell_type": "code",
   "execution_count": 18,
   "id": "dc514e66",
   "metadata": {},
   "outputs": [
    {
     "data": {
      "text/plain": [
       "['1',\n",
       " '2150',\n",
       " '37',\n",
       " '0',\n",
       " '1',\n",
       " '1',\n",
       " '0',\n",
       " '1',\n",
       " '2',\n",
       " '1950',\n",
       " '28',\n",
       " '1',\n",
       " '1',\n",
       " '0',\n",
       " '1',\n",
       " '0',\n",
       " '3',\n",
       " '2240',\n",
       " '26',\n",
       " '0',\n",
       " '0',\n",
       " '1',\n",
       " '0',\n",
       " '0']"
      ]
     },
     "execution_count": 18,
     "metadata": {},
     "output_type": "execute_result"
    }
   ],
   "source": [
    "X = re.findall(r'([-+]?\\d+)',empiric)\n",
    "X"
   ]
  },
  {
   "cell_type": "code",
   "execution_count": 19,
   "id": "6a5b2d11",
   "metadata": {},
   "outputs": [
    {
     "data": {
      "text/plain": [
       "array([['1', '2150', '37', '0', '1', '1', '0', '1'],\n",
       "       ['2', '1950', '28', '1', '1', '0', '1', '0'],\n",
       "       ['3', '2240', '26', '0', '0', '1', '0', '0']], dtype='<U4')"
      ]
     },
     "execution_count": 19,
     "metadata": {},
     "output_type": "execute_result"
    }
   ],
   "source": [
    "X = np.reshape(X, (3,8))\n",
    "X"
   ]
  },
  {
   "cell_type": "code",
   "execution_count": 20,
   "id": "368ba6d6",
   "metadata": {},
   "outputs": [
    {
     "data": {
      "text/plain": [
       "array([['2150', '37', '0', '1', '1', '0', '1'],\n",
       "       ['1950', '28', '1', '1', '0', '1', '0'],\n",
       "       ['2240', '26', '0', '0', '1', '0', '0']], dtype='<U4')"
      ]
     },
     "execution_count": 20,
     "metadata": {},
     "output_type": "execute_result"
    }
   ],
   "source": [
    "X = np.delete(X, 0, 1)\n",
    "X"
   ]
  },
  {
   "cell_type": "code",
   "execution_count": 21,
   "id": "effee283",
   "metadata": {},
   "outputs": [
    {
     "data": {
      "text/plain": [
       "array([['2150', '37', '0', '1', '1', '0', '1', '1.0'],\n",
       "       ['1950', '28', '1', '1', '0', '1', '0', '1.0'],\n",
       "       ['2240', '26', '0', '0', '1', '0', '0', '1.0']], dtype='<U32')"
      ]
     },
     "execution_count": 21,
     "metadata": {},
     "output_type": "execute_result"
    }
   ],
   "source": [
    "X = np.c_[X,np.ones(3)]\n",
    "X"
   ]
  },
  {
   "cell_type": "code",
   "execution_count": 22,
   "id": "09ef134b",
   "metadata": {},
   "outputs": [
    {
     "data": {
      "text/plain": [
       "array([1., 1., 1., 1., 1., 1., 1., 1., 1.])"
      ]
     },
     "execution_count": 22,
     "metadata": {},
     "output_type": "execute_result"
    }
   ],
   "source": [
    "np.ones(9)"
   ]
  },
  {
   "cell_type": "code",
   "execution_count": 24,
   "id": "5b0e72e0",
   "metadata": {},
   "outputs": [],
   "source": [
    "beta = beta.astype(float)\n",
    "X = X.astype(float)"
   ]
  },
  {
   "cell_type": "code",
   "execution_count": 25,
   "id": "f8f87c0d",
   "metadata": {},
   "outputs": [
    {
     "data": {
      "text/plain": [
       "array([3251.188, 3371.93 , 3087.519])"
      ]
     },
     "execution_count": 25,
     "metadata": {},
     "output_type": "execute_result"
    }
   ],
   "source": [
    "X@beta"
   ]
  },
  {
   "cell_type": "code",
   "execution_count": null,
   "id": "36f8ec63",
   "metadata": {},
   "outputs": [],
   "source": []
  }
 ],
 "metadata": {
  "kernelspec": {
   "display_name": "Python 3 (ipykernel)",
   "language": "python",
   "name": "python3"
  },
  "language_info": {
   "codemirror_mode": {
    "name": "ipython",
    "version": 3
   },
   "file_extension": ".py",
   "mimetype": "text/x-python",
   "name": "python",
   "nbconvert_exporter": "python",
   "pygments_lexer": "ipython3",
   "version": "3.9.16"
  }
 },
 "nbformat": 4,
 "nbformat_minor": 5
}
